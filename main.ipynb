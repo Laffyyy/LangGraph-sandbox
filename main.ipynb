{
 "cells": [
  {
   "cell_type": "code",
   "execution_count": 9,
   "id": "c516a02a",
   "metadata": {},
   "outputs": [
    {
     "name": "stdout",
     "output_type": "stream",
     "text": [
      "The capital of France is **Paris**. It is one of the most famous and visited cities in the world, known for landmarks like the Eiffel Tower, the Louvre Museum, and Notre-Dame Cathedral.  \n",
      "\n",
      "Would you like recommendations for things to do in Paris? 😊\n"
     ]
    }
   ],
   "source": [
    "import os\n",
    "import getpass\n",
    "\n",
    "from langchain_openai import ChatOpenAI\n",
    "\n",
    "def _set_env(var: str):\n",
    "    if not os.environ.get(var):\n",
    "        os.environ[var] = getpass.getpass(f\"{var}: \")\n",
    "\n",
    "_set_env(\"DEEPSEEK_API_KEY\")\n",
    "\n",
    "# DeepSeek uses OpenAI-compatible API\n",
    "deepseek_llm = ChatOpenAI(\n",
    "    model=\"deepseek-chat\",\n",
    "    api_key=os.environ[\"DEEPSEEK_API_KEY\"],\n",
    "    base_url=\"https://api.deepseek.com\"  # DeepSeek's API endpoint\n",
    ")\n",
    "\n",
    "response = deepseek_llm.invoke(\"What is the capital of France?\")\n",
    "print(response.content)"
   ]
  }
 ],
 "metadata": {
  "kernelspec": {
   "display_name": "venv",
   "language": "python",
   "name": "python3"
  },
  "language_info": {
   "codemirror_mode": {
    "name": "ipython",
    "version": 3
   },
   "file_extension": ".py",
   "mimetype": "text/x-python",
   "name": "python",
   "nbconvert_exporter": "python",
   "pygments_lexer": "ipython3",
   "version": "3.13.5"
  }
 },
 "nbformat": 4,
 "nbformat_minor": 5
}
